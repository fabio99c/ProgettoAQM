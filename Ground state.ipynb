{
 "cells": [
  {
   "cell_type": "markdown",
   "id": "d68117fb",
   "metadata": {},
   "source": [
    "Calcolo ground state classico"
   ]
  },
  {
   "cell_type": "code",
   "execution_count": 34,
   "id": "a15d3e8b",
   "metadata": {},
   "outputs": [],
   "source": [
    "import numpy as np\n",
    "from numpy import linalg\n",
    "from qiskit.quantum_info.operators import Operator, Pauli, SparsePauliOp\n",
    "from qiskit.opflow import Z, I, X\n",
    "\n",
    "nShots = 8192\n",
    "J = -1\n",
    "b = np.linspace(0,4,10)\n",
    "\n",
    "num_qubits=2\n",
    "m=num_qubits-1\n",
    "n=num_qubits-2\n",
    "E_l = []\n",
    "P_l = []\n",
    "energy_levels = []\n",
    "\n",
    "\n",
    "for k in range(len(b)):\n",
    "    G=b[k]*((I^m)^X)\n",
    "    H=0\n",
    "    hamiltonian1=H\n",
    "    hamiltonian2=G\n",
    "    \n",
    "    for i in range(n+1):\n",
    "        H =(I^i)^Z^Z^(I^(n-i))\n",
    "        G=(I^i)^X^(I^(n+1-i))\n",
    "        hamiltonian1=hamiltonian1+J*H\n",
    "        hamiltonian2=hamiltonian2+b[k]*G\n",
    "    \n",
    "    hamiltonian=Operator(hamiltonian1+hamiltonian2)\n",
    "    \n",
    "    # Extract eig\n",
    "    E_l,P_l = linalg.eig(hamiltonian.data)\n",
    "\n",
    "    Es = np.sort(E_l)\n",
    "\n",
    "    energy_levels.append(np.real(Es))\n",
    "    \n",
    "    "
   ]
  },
  {
   "cell_type": "markdown",
   "id": "bc9e6270",
   "metadata": {},
   "source": [
    "Calcolo ground state quantistico"
   ]
  },
  {
   "cell_type": "code",
   "execution_count": 25,
   "id": "9d7d06c7",
   "metadata": {},
   "outputs": [],
   "source": [
    "from qiskit.quantum_info import Kraus, SuperOp\n",
    "from qiskit import Aer\n",
    "from qiskit.providers.aer import QasmSimulator\n",
    "from qiskit.providers.aer.noise import NoiseModel\n",
    "from qiskit.providers.aer.noise import QuantumError, ReadoutError\n",
    "from qiskit.providers.aer.noise import pauli_error\n",
    "from qiskit.providers.aer.noise import depolarizing_error\n",
    "from qiskit.providers.aer.noise import thermal_relaxation_error\n",
    "from qiskit.providers.models import BackendProperties\n",
    "from qiskit.providers.aer import noise\n",
    "\n",
    "from qiskit.tools.monitor import job_monitor\n",
    "from qiskit.algorithms.optimizers import SPSA, COBYLA\n",
    "from qiskit import IBMQ\n",
    "from qiskit.utils import QuantumInstance\n",
    "from qiskit.opflow import Z, I, X\n",
    "from qiskit.circuit.library import EfficientSU2\n",
    "import numpy as np\n",
    "\n",
    "#IBMQ.load_account()\n",
    "#provider = IBMQ.get_provider(hub='ibm-q', group='open', project='main')"
   ]
  },
  {
   "cell_type": "code",
   "execution_count": 35,
   "id": "e5b5f89d",
   "metadata": {},
   "outputs": [],
   "source": [
    "#provider.backends()"
   ]
  },
  {
   "cell_type": "code",
   "execution_count": 27,
   "id": "fee0ca63",
   "metadata": {},
   "outputs": [],
   "source": [
    "optimizer = COBYLA(maxiter=50, tol=0.001, rhobeg=1.0)\n",
    "#optimizer = SPSA(maxiter=50)\n",
    "###############################\n",
    "\n",
    "HW = 'ibmq_manila'\n",
    "BK = \"noiseless\" # \"noiseless\", \"hardware\"\n",
    "\n",
    "if BK == \"noiseless\":\n",
    "    \n",
    "    backend = Aer.get_backend(\"qasm_simulator\")\n",
    "    quantum_instance = QuantumInstance(backend,\n",
    "                                       shots=nShots)\n",
    "    \n",
    "if BK == \"noisy\":\n",
    "    \n",
    "    device = IBMQ.get_provider().get_backend(HW)\n",
    "    coupling_map = device.configuration().coupling_map\n",
    "    prop = device.properties()\n",
    "    \n",
    "    noise_model = noise.device.basic_device_noise_model(prop)\n",
    "    basis_gates = noise_model.basis_gates\n",
    "\n",
    "    backend = Aer.get_backend('qasm_simulator')\n",
    "    quantum_instance = QuantumInstance(backend,\n",
    "                                       shots=nShots,\n",
    "                                       noise_model=noise_model,\n",
    "                                       coupling_map=coupling_map)\n",
    "    \n",
    "if BK == \"hardware\":\n",
    "    \n",
    "    device = provider.get_backend(HW)\n",
    "    prop = device.properties()\n",
    "    \n",
    "    quantum_instance = QuantumInstance(device,\n",
    "                                       shots=nShots)"
   ]
  },
  {
   "cell_type": "code",
   "execution_count": 28,
   "id": "736a5523",
   "metadata": {},
   "outputs": [
    {
     "data": {
      "image/png": "[encoded data removed]",
      "text/plain": [
       "<Figure size 705.35x200.667 with 1 Axes>"
      ]
     },
     "execution_count": 28,
     "metadata": {},
     "output_type": "execute_result"
    }
   ],
   "source": [
    "from qiskit.circuit.library import EfficientSU2\n",
    "\n",
    "# the rotation gates are chosen randomly, so we set a seed for reproducibility\n",
    "ansatz = EfficientSU2(num_qubits, reps=1, entanglement='linear', insert_barriers=True) \n",
    "ansatz.decompose().draw('mpl', style='iqx')"
   ]
  },
  {
   "cell_type": "code",
   "execution_count": 29,
   "id": "9e9ad8ad",
   "metadata": {},
   "outputs": [],
   "source": [
    "intermediate_info = {\n",
    "    'nfev': [],\n",
    "    'parameters': [],\n",
    "    'energy': [],\n",
    "    'stddev': []\n",
    "}\n",
    "\n",
    "def callback(nfev, parameters, energy, stddev):\n",
    "    intermediate_info['nfev'].append(nfev)\n",
    "    intermediate_info['parameters'].append(parameters)\n",
    "    intermediate_info['energy'].append(energy)\n",
    "    intermediate_info['stddev'].append(stddev)"
   ]
  },
  {
   "cell_type": "code",
   "execution_count": 30,
   "id": "580805d5",
   "metadata": {},
   "outputs": [],
   "source": [
    "from qiskit.providers.basicaer import QasmSimulatorPy  # local simulator\n",
    "from qiskit.algorithms import VQE\n",
    "\n",
    "local_vqe = VQE(ansatz=ansatz,\n",
    "                optimizer=optimizer,\n",
    "                initial_point=initial_point,\n",
    "                quantum_instance=QasmSimulatorPy(),\n",
    "                callback=callback)"
   ]
  },
  {
   "cell_type": "code",
   "execution_count": 31,
   "id": "5b8df5a5",
   "metadata": {},
   "outputs": [],
   "source": [
    "from qiskit import Aer\n",
    "from qiskit.opflow import X, Z, I\n",
    "from qiskit.utils import QuantumInstance, algorithm_globals\n",
    "from qiskit.algorithms import VQE\n",
    "from qiskit.algorithms.optimizers import SLSQP\n",
    "from qiskit.circuit.library import TwoLocal\n",
    "\n",
    "energy = []\n",
    "\n",
    "for k in range(len(b)):\n",
    "    G=b[k]*((I^m)^X)\n",
    "    H=0\n",
    "    hamiltonian1=H\n",
    "    hamiltonian2=G\n",
    "    \n",
    "    for i in range(n+1):\n",
    "        H =(I^i)^Z^Z^(I^(n-i))\n",
    "        G=(I^i)^X^(I^(n+1-i))\n",
    "        hamiltonian1=hamiltonian1+J*H\n",
    "        hamiltonian2=hamiltonian2+b[k]*G\n",
    "    \n",
    "    hamiltonian=hamiltonian1+hamiltonian2\n",
    "    \n",
    "    # Extract eig\n",
    "    local_result = local_vqe.compute_minimum_eigenvalue(hamiltonian)\n",
    "    energy.append(local_result.eigenvalue)\n"
   ]
  },
  {
   "cell_type": "code",
   "execution_count": 33,
   "id": "812ad291",
   "metadata": {},
   "outputs": [
    {
     "name": "stderr",
     "output_type": "stream",
     "text": [
      "C:\\Users\\Fabio\\anaconda3\\lib\\site-packages\\matplotlib\\collections.py:196: ComplexWarning: Casting complex values to real discards the imaginary part\n",
      "  offsets = np.asanyarray(offsets, float)\n"
     ]
    },
    {
     "data": {
      "image/png": "[encoded data removed]",
      "text/plain": [
       "<Figure size 640x480 with 1 Axes>"
      ]
     },
     "metadata": {},
     "output_type": "display_data"
    }
   ],
   "source": [
    "##VERY ROUGH RESULTS WITHOUT OPTIMIZATION\n",
    "import matplotlib.pyplot as plt\n",
    "fig, ax = plt.subplots()\n",
    "#plt.xticks(b)\n",
    "\n",
    "ax.scatter(b, energy, marker='o')\n",
    "ax.plot(b, energy_levels, color=\"#c2c2c2\", linewidth=0.5)\n",
    "\n",
    "ax.set(xlabel='B field', ylabel='Energy', title='')\n",
    "\n",
    "#ax.grid()\n",
    "plt.show()\n",
    "\n",
    "## ADDITIONAL DETAILS: https://github.com/Qiskit/qiskit-tutorials/blob/master/tutorials/algorithms/03_vqe_simulation_with_noise.ipynb"
   ]
  }
 ],
 "metadata": {
  "kernelspec": {
   "display_name": "Python 3 (ipykernel)",
   "language": "python",
   "name": "python3"
  },
  "language_info": {
   "codemirror_mode": {
    "name": "ipython",
    "version": 3
   },
   "file_extension": ".py",
   "mimetype": "text/x-python",
   "name": "python",
   "nbconvert_exporter": "python",
   "pygments_lexer": "ipython3",
   "version": "3.9.13"
  }
 },
 "nbformat": 4,
 "nbformat_minor": 5
}
